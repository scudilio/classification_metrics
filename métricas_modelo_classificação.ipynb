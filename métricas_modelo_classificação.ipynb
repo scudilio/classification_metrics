{
  "nbformat": 4,
  "nbformat_minor": 0,
  "metadata": {
    "colab": {
      "name": "métricas_modelo_classificação",
      "provenance": [],
      "authorship_tag": "ABX9TyMzQUwApRJCRiPZHHzTq2Nc",
      "include_colab_link": true
    },
    "kernelspec": {
      "name": "python3",
      "display_name": "Python 3"
    }
  },
  "cells": [
    {
      "cell_type": "markdown",
      "metadata": {
        "id": "view-in-github",
        "colab_type": "text"
      },
      "source": [
        "<a href=\"https://colab.research.google.com/github/scudilio/classification_metrics/blob/master/m%C3%A9tricas_modelo_classifica%C3%A7%C3%A3o.ipynb\" target=\"_parent\"><img src=\"https://colab.research.google.com/assets/colab-badge.svg\" alt=\"Open In Colab\"/></a>"
      ]
    },
    {
      "cell_type": "markdown",
      "metadata": {
        "id": "pK4Pn9ziqf0Z",
        "colab_type": "text"
      },
      "source": [
        "#**KNN para Classificação**\n",
        "\n",
        "##**Importando as bibliotecas necessárias**\n",
        "\n",
        "\n"
      ]
    },
    {
      "cell_type": "code",
      "metadata": {
        "id": "QpSF-StEvpsJ",
        "colab_type": "code",
        "colab": {}
      },
      "source": [
        "import pandas as pd #manipulação de dataset\n",
        "from sklearn.preprocessing import LabelEncoder #pré-processamento\n",
        "from sklearn.preprocessing import MinMaxScaler #padronização\n",
        "from sklearn.neighbors import KNeighborsClassifier #classificador\n",
        "from sklearn.model_selection import train_test_split #separando em dados teste e treinamento \n",
        "from sklearn.metrics import classification_report # metricas de validação\n",
        "from sklearn.metrics import accuracy_score #acuracia\n",
        "from sklearn.metrics import precision_score #precision\n",
        "from sklearn.metrics import recall_score #recall\n",
        "from sklearn.metrics import f1_score #f1-score\n",
        "from sklearn.metrics import roc_auc_score #area sob curva roc\n",
        "from sklearn.metrics import roc_curve #curva roc\n",
        "from sklearn.metrics import confusion_matrix #matriz de confusão\n",
        "from matplotlib import pyplot #grafico\n",
        "\n"
      ],
      "execution_count": 66,
      "outputs": []
    },
    {
      "cell_type": "markdown",
      "metadata": {
        "id": "R8p7Y0wtwpX-",
        "colab_type": "text"
      },
      "source": [
        "##**Importando o conjunto de dados do Github**"
      ]
    },
    {
      "cell_type": "code",
      "metadata": {
        "id": "gZDurcxfqdPw",
        "colab_type": "code",
        "colab": {
          "base_uri": "https://localhost:8080/",
          "height": 202
        },
        "outputId": "833d549c-8011-4944-ecbe-015797198fef"
      },
      "source": [
        "url = 'https://raw.githubusercontent.com/scudilio/classification_metrics/master/dataset_Social_Network_Ads.csv'\n",
        "data = pd.read_csv(url)\n",
        "data.head(5)\n"
      ],
      "execution_count": 7,
      "outputs": [
        {
          "output_type": "execute_result",
          "data": {
            "text/html": [
              "<div>\n",
              "<style scoped>\n",
              "    .dataframe tbody tr th:only-of-type {\n",
              "        vertical-align: middle;\n",
              "    }\n",
              "\n",
              "    .dataframe tbody tr th {\n",
              "        vertical-align: top;\n",
              "    }\n",
              "\n",
              "    .dataframe thead th {\n",
              "        text-align: right;\n",
              "    }\n",
              "</style>\n",
              "<table border=\"1\" class=\"dataframe\">\n",
              "  <thead>\n",
              "    <tr style=\"text-align: right;\">\n",
              "      <th></th>\n",
              "      <th>User ID</th>\n",
              "      <th>Gender</th>\n",
              "      <th>Age</th>\n",
              "      <th>EstimatedSalary</th>\n",
              "      <th>Purchased</th>\n",
              "    </tr>\n",
              "  </thead>\n",
              "  <tbody>\n",
              "    <tr>\n",
              "      <th>0</th>\n",
              "      <td>15624510</td>\n",
              "      <td>Male</td>\n",
              "      <td>19</td>\n",
              "      <td>19000</td>\n",
              "      <td>0</td>\n",
              "    </tr>\n",
              "    <tr>\n",
              "      <th>1</th>\n",
              "      <td>15810944</td>\n",
              "      <td>Male</td>\n",
              "      <td>35</td>\n",
              "      <td>20000</td>\n",
              "      <td>0</td>\n",
              "    </tr>\n",
              "    <tr>\n",
              "      <th>2</th>\n",
              "      <td>15668575</td>\n",
              "      <td>Female</td>\n",
              "      <td>26</td>\n",
              "      <td>43000</td>\n",
              "      <td>0</td>\n",
              "    </tr>\n",
              "    <tr>\n",
              "      <th>3</th>\n",
              "      <td>15603246</td>\n",
              "      <td>Female</td>\n",
              "      <td>27</td>\n",
              "      <td>57000</td>\n",
              "      <td>0</td>\n",
              "    </tr>\n",
              "    <tr>\n",
              "      <th>4</th>\n",
              "      <td>15804002</td>\n",
              "      <td>Male</td>\n",
              "      <td>19</td>\n",
              "      <td>76000</td>\n",
              "      <td>0</td>\n",
              "    </tr>\n",
              "  </tbody>\n",
              "</table>\n",
              "</div>"
            ],
            "text/plain": [
              "    User ID  Gender  Age  EstimatedSalary  Purchased\n",
              "0  15624510    Male   19            19000          0\n",
              "1  15810944    Male   35            20000          0\n",
              "2  15668575  Female   26            43000          0\n",
              "3  15603246  Female   27            57000          0\n",
              "4  15804002    Male   19            76000          0"
            ]
          },
          "metadata": {
            "tags": []
          },
          "execution_count": 7
        }
      ]
    },
    {
      "cell_type": "markdown",
      "metadata": {
        "id": "09L_DNMAn4hd",
        "colab_type": "text"
      },
      "source": [
        "#**Porcentagem de clientes que compraram o anúncio**\n",
        "\n",
        "Podemos perceber que apenas 35% dos clientes compraram o anúncio."
      ]
    },
    {
      "cell_type": "code",
      "metadata": {
        "id": "LXXw7KTknwER",
        "colab_type": "code",
        "colab": {
          "base_uri": "https://localhost:8080/",
          "height": 35
        },
        "outputId": "ff7a4b20-abfc-4f68-b57c-5dd72f3721ad"
      },
      "source": [
        "data['Purchased'].sum()/data['Purchased'].count()"
      ],
      "execution_count": 47,
      "outputs": [
        {
          "output_type": "execute_result",
          "data": {
            "text/plain": [
              "0.3575"
            ]
          },
          "metadata": {
            "tags": []
          },
          "execution_count": 47
        }
      ]
    },
    {
      "cell_type": "markdown",
      "metadata": {
        "id": "4dAL8KGZwvis",
        "colab_type": "text"
      },
      "source": [
        "##**Separando a variável dependente das variáveis independentes**\n",
        "\n",
        "Para exemplificar e simplificar o problema iremos utilizar apenas as variáveis numéricas."
      ]
    },
    {
      "cell_type": "code",
      "metadata": {
        "id": "HxoyCePNuNIF",
        "colab_type": "code",
        "colab": {}
      },
      "source": [
        "#Criando variaveis independentes e dependentes\n",
        "#utilizaremos apenas as variáveis numéricas\n",
        "\n",
        "y = data['Purchased']\n",
        "X = data.iloc[ :, [2,3]].values"
      ],
      "execution_count": 21,
      "outputs": []
    },
    {
      "cell_type": "markdown",
      "metadata": {
        "id": "IrQGqMQExhvc",
        "colab_type": "text"
      },
      "source": [
        "##**Pré-Processamento Básico Padronizando as Variáveis Contínuas** \n",
        "\n"
      ]
    },
    {
      "cell_type": "code",
      "metadata": {
        "id": "aLZcFOEqzPd-",
        "colab_type": "code",
        "colab": {}
      },
      "source": [
        "X = MinMaxScaler().fit_transform(X)"
      ],
      "execution_count": 26,
      "outputs": []
    },
    {
      "cell_type": "markdown",
      "metadata": {
        "id": "ckkkt7tN2_Cx",
        "colab_type": "text"
      },
      "source": [
        "##**Separando o dados em Treino e Teste**"
      ]
    },
    {
      "cell_type": "code",
      "metadata": {
        "id": "sp5O2d5FySDN",
        "colab_type": "code",
        "colab": {}
      },
      "source": [
        "x_treino, x_teste, y_treino,y_teste  = train_test_split(X, y, test_size = 0.25,random_state = 1)"
      ],
      "execution_count": 31,
      "outputs": []
    },
    {
      "cell_type": "markdown",
      "metadata": {
        "id": "sqc2quOo63UW",
        "colab_type": "text"
      },
      "source": [
        "#**Ajustando o KNN nos dados de Treino**"
      ]
    },
    {
      "cell_type": "code",
      "metadata": {
        "id": "4DujWRYt6BJ2",
        "colab_type": "code",
        "colab": {
          "base_uri": "https://localhost:8080/",
          "height": 69
        },
        "outputId": "65b2d017-7877-4485-9589-6d60f34c9be1"
      },
      "source": [
        "knn = KNeighborsClassifier()\n",
        "knn.fit(x_treino, y_treino)"
      ],
      "execution_count": 32,
      "outputs": [
        {
          "output_type": "execute_result",
          "data": {
            "text/plain": [
              "KNeighborsClassifier(algorithm='auto', leaf_size=30, metric='minkowski',\n",
              "                     metric_params=None, n_jobs=None, n_neighbors=5, p=2,\n",
              "                     weights='uniform')"
            ]
          },
          "metadata": {
            "tags": []
          },
          "execution_count": 32
        }
      ]
    },
    {
      "cell_type": "markdown",
      "metadata": {
        "id": "7-yy7NCD7AAe",
        "colab_type": "text"
      },
      "source": [
        "##**Calculando a Matriz de Confusão nos dados de Teste**"
      ]
    },
    {
      "cell_type": "code",
      "metadata": {
        "id": "hISQS1IE6Jw4",
        "colab_type": "code",
        "colab": {
          "base_uri": "https://localhost:8080/",
          "height": 104
        },
        "outputId": "9bbfae61-0cb6-4542-a530-f4d33ad32308"
      },
      "source": [
        "#Calculando a matriz de confusão\n",
        "resultado_knn = knn.predict(x_teste)\n",
        "print (pd.crosstab(y_teste,resultado_knn, rownames=['Real'], colnames=['Predito'], margins=True))"
      ],
      "execution_count": 33,
      "outputs": [
        {
          "output_type": "stream",
          "text": [
            "Predito   0   1  All\n",
            "Real                \n",
            "0        50   8   58\n",
            "1         4  38   42\n",
            "All      54  46  100\n"
          ],
          "name": "stdout"
        }
      ]
    },
    {
      "cell_type": "markdown",
      "metadata": {
        "id": "aHtdjmoS7JEd",
        "colab_type": "text"
      },
      "source": [
        "##**Calculando as métricas de validação**\n",
        "\n",
        "* **Acurácia**"
      ]
    },
    {
      "cell_type": "code",
      "metadata": {
        "id": "g0NP3w8j9Q0C",
        "colab_type": "code",
        "colab": {
          "base_uri": "https://localhost:8080/",
          "height": 35
        },
        "outputId": "b7e15e82-c69e-4601-80b6-df8398323c8c"
      },
      "source": [
        "# Acurácia\n",
        "acuracia = accuracy_score(y_teste, resultado_knn)\n",
        "print('Acurácia: %f' % acuracia)"
      ],
      "execution_count": 38,
      "outputs": [
        {
          "output_type": "stream",
          "text": [
            "Acurácia: 0.880000\n"
          ],
          "name": "stdout"
        }
      ]
    },
    {
      "cell_type": "code",
      "metadata": {
        "id": "iZBFb3Myq5Yg",
        "colab_type": "code",
        "colab": {
          "base_uri": "https://localhost:8080/",
          "height": 35
        },
        "outputId": "978c164c-7c78-4918-9bc4-f2e80f24478f"
      },
      "source": [
        "50/58"
      ],
      "execution_count": 48,
      "outputs": [
        {
          "output_type": "execute_result",
          "data": {
            "text/plain": [
              "0.8620689655172413"
            ]
          },
          "metadata": {
            "tags": []
          },
          "execution_count": 48
        }
      ]
    },
    {
      "cell_type": "markdown",
      "metadata": {
        "id": "5t8VQ-2y-1EO",
        "colab_type": "text"
      },
      "source": [
        "* **Precision**\n"
      ]
    },
    {
      "cell_type": "code",
      "metadata": {
        "id": "ExfzRyDZ-y3P",
        "colab_type": "code",
        "colab": {
          "base_uri": "https://localhost:8080/",
          "height": 35
        },
        "outputId": "a379ea97-30a9-4492-cadd-6970740b649c"
      },
      "source": [
        "# Precision\n",
        "precision = precision_score(y_teste, resultado_knn)\n",
        "print('Precision: %f' % precision)"
      ],
      "execution_count": 39,
      "outputs": [
        {
          "output_type": "stream",
          "text": [
            "Precision: 0.826087\n"
          ],
          "name": "stdout"
        }
      ]
    },
    {
      "cell_type": "markdown",
      "metadata": {
        "id": "Cc4CngTjFvre",
        "colab_type": "text"
      },
      "source": [
        "* **Recall**"
      ]
    },
    {
      "cell_type": "code",
      "metadata": {
        "id": "FP8zMFcZFy0X",
        "colab_type": "code",
        "colab": {
          "base_uri": "https://localhost:8080/",
          "height": 35
        },
        "outputId": "e150da7b-5236-488e-c3a5-8f6432bc80c8"
      },
      "source": [
        "# Recall\n",
        "recall = recall_score(y_teste, resultado_knn)\n",
        "print('Recall: %f' % recall)\n"
      ],
      "execution_count": 40,
      "outputs": [
        {
          "output_type": "stream",
          "text": [
            "Recall: 0.904762\n"
          ],
          "name": "stdout"
        }
      ]
    },
    {
      "cell_type": "markdown",
      "metadata": {
        "id": "8HKG9EnaGExH",
        "colab_type": "text"
      },
      "source": [
        "* **F1-Score**"
      ]
    },
    {
      "cell_type": "code",
      "metadata": {
        "id": "jA9lByWcGDus",
        "colab_type": "code",
        "colab": {
          "base_uri": "https://localhost:8080/",
          "height": 35
        },
        "outputId": "e4cfe73b-6478-47bc-e294-37b1dc00c93f"
      },
      "source": [
        "# F1-Score\n",
        "f1 = f1_score(y_teste, resultado_knn)\n",
        "print('F1-Score: %f' % f1)"
      ],
      "execution_count": 42,
      "outputs": [
        {
          "output_type": "stream",
          "text": [
            "F1-Score: 0.863636\n"
          ],
          "name": "stdout"
        }
      ]
    },
    {
      "cell_type": "markdown",
      "metadata": {
        "id": "aKjWIj9yJTLJ",
        "colab_type": "text"
      },
      "source": [
        "* **Analisando as métricas de acordo com as classes**"
      ]
    },
    {
      "cell_type": "code",
      "metadata": {
        "id": "Tp7ox_iD9K5l",
        "colab_type": "code",
        "colab": {
          "base_uri": "https://localhost:8080/",
          "height": 173
        },
        "outputId": "4e737ed6-8982-4888-9da3-935b97f05e3f"
      },
      "source": [
        "print(classification_report(y_teste, resultado_knn))"
      ],
      "execution_count": 44,
      "outputs": [
        {
          "output_type": "stream",
          "text": [
            "              precision    recall  f1-score   support\n",
            "\n",
            "           0       0.93      0.86      0.89        58\n",
            "           1       0.83      0.90      0.86        42\n",
            "\n",
            "    accuracy                           0.88       100\n",
            "   macro avg       0.88      0.88      0.88       100\n",
            "weighted avg       0.88      0.88      0.88       100\n",
            "\n"
          ],
          "name": "stdout"
        }
      ]
    },
    {
      "cell_type": "markdown",
      "metadata": {
        "id": "sN_rKmxi-iuI",
        "colab_type": "text"
      },
      "source": [
        "* **Área Sob a Curva Roc - AUC**"
      ]
    },
    {
      "cell_type": "code",
      "metadata": {
        "id": "5d1xA7pV0jnE",
        "colab_type": "code",
        "colab": {
          "base_uri": "https://localhost:8080/",
          "height": 35
        },
        "outputId": "460c47c4-2d5c-46ec-86cb-f5037556007f"
      },
      "source": [
        "# calculate AUC\n",
        "auc = roc_auc_score(y_teste, resultado_knn)\n",
        "print('AUC: %.3f' % auc)"
      ],
      "execution_count": 62,
      "outputs": [
        {
          "output_type": "stream",
          "text": [
            "AUC: 0.883\n"
          ],
          "name": "stdout"
        }
      ]
    },
    {
      "cell_type": "markdown",
      "metadata": {
        "id": "i5ne11qi-sIe",
        "colab_type": "text"
      },
      "source": [
        "* **Gráfico da  Curva Roc**\n",
        "\n"
      ]
    },
    {
      "cell_type": "code",
      "metadata": {
        "id": "q-lPj8fOrXnG",
        "colab_type": "code",
        "colab": {}
      },
      "source": [
        "# estimando as probabilidades\n",
        "knn_prob = knn.predict_proba(x_teste)\n",
        "probs = knn_prob[:, 1]\n",
        "rfp, rvp,lim = roc_curve(y_teste, probs)\n"
      ],
      "execution_count": 74,
      "outputs": []
    },
    {
      "cell_type": "code",
      "metadata": {
        "id": "9qOC4xVG9PYz",
        "colab_type": "code",
        "colab": {
          "base_uri": "https://localhost:8080/",
          "height": 297
        },
        "outputId": "c9858aef-eb0f-4dd3-91a4-12bb3ea7f4e6"
      },
      "source": [
        "# gráfico da curva roc\n",
        "pyplot.plot(rfp, rvp, marker='.', label='KNN',color=\"orange\")\n",
        "pyplot.plot([0, 1], [0, 1], color='darkblue', linestyle='--')\n",
        "\n",
        "# axis labels\n",
        "pyplot.xlabel('1- Especificidade')\n",
        "pyplot.ylabel('Sensibilidade')\n",
        "# show the legend\n",
        "pyplot.legend()\n",
        "# show the plot\n",
        "pyplot.show()\n",
        "print(\"AUC-ROC :\",auc)"
      ],
      "execution_count": 78,
      "outputs": [
        {
          "output_type": "display_data",
          "data": {
            "image/png": "[encoded data removed]",
            "text/plain": [
              "<Figure size 432x288 with 1 Axes>"
            ]
          },
          "metadata": {
            "tags": [],
            "needs_background": "light"
          }
        },
        {
          "output_type": "stream",
          "text": [
            "AUC-ROC : 0.883415435139573\n"
          ],
          "name": "stdout"
        }
      ]
    }
  ]
}